{
 "cells": [
  {
   "cell_type": "code",
   "execution_count": null,
   "metadata": {},
   "outputs": [],
   "source": [
    "import os\n",
    "\n",
    "# @numba.jit() --> numba is more appropriate for numerical operations, less for filepath and string operations\n",
    "def image_generator(directory):\n",
    "    # Use os.scandir for better performance\n",
    "    for entry in os.scandir(directory):\n",
    "        if entry.is_file() and entry.name.lower().endswith(('png', 'jpg', 'jpeg')):\n",
    "            yield entry.path\n",
    "        elif entry.is_dir():\n",
    "            yield from image_generator(entry.path)"
   ]
  }
 ],
 "metadata": {
  "kernelspec": {
   "display_name": "big_data",
   "language": "python",
   "name": "python3"
  },
  "language_info": {
   "name": "python",
   "version": "3.10.14"
  }
 },
 "nbformat": 4,
 "nbformat_minor": 2
}
