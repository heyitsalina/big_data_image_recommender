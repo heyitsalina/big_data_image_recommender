{
 "cells": [
  {
   "cell_type": "code",
   "execution_count": null,
   "metadata": {},
   "outputs": [],
   "source": [
    "import os\n",
    "\n",
    "# @numba.jit() --> numba is more appropriate for numerical operations, less for filepath and string operations\n",
    "def image_generator(directory):\n",
    "    # Use os.scandir for better performance\n",
    "    for entry in os.scandir(directory):\n",
    "        if entry.is_file() and entry.name.lower().endswith(('png', 'jpg', 'jpeg')):\n",
    "            yield entry.path\n",
    "        elif entry.is_dir():\n",
    "            yield from image_generator(entry.path)"
   ]
  },
  {
   "cell_type": "code",
   "execution_count": 41,
   "metadata": {},
   "outputs": [],
   "source": [
    "import sqlite3\n",
    "\n",
    "conn = sqlite3.connect(r'C:\\Uni\\SOSE_2024\\big_data\\project\\big_data_image_recommender\\image_metadata.db')\n",
    "curs = conn.cursor()"
   ]
  },
  {
   "cell_type": "code",
   "execution_count": 25,
   "metadata": {},
   "outputs": [],
   "source": [
    "file = '000000000034.jpg'\n",
    "with open(file, 'rb') as f:\n",
    "    data = f.read()"
   ]
  },
  {
   "cell_type": "code",
   "execution_count": 27,
   "metadata": {},
   "outputs": [],
   "source": [
    "\n",
    "curs.execute('''\n",
    "        INSERT INTO image (filename, image)\n",
    "        VALUES (?, ?)\n",
    "    ''', (file ,data))\n",
    "\n",
    "conn.commit()"
   ]
  },
  {
   "cell_type": "code",
   "execution_count": 43,
   "metadata": {},
   "outputs": [],
   "source": [
    "m = curs.execute(\"\"\"\n",
    "                 SELECT * FROM image\n",
    "                 \"\"\")\n",
    "for x in m:\n",
    "    receive_data = x[2]"
   ]
  },
  {
   "cell_type": "code",
   "execution_count": 44,
   "metadata": {},
   "outputs": [],
   "source": [
    "with open('example.jpg', 'wb') as f:\n",
    "    f.write(receive_data)"
   ]
  },
  {
   "cell_type": "code",
   "execution_count": 37,
   "metadata": {},
   "outputs": [],
   "source": []
  },
  {
   "cell_type": "code",
   "execution_count": 38,
   "metadata": {},
   "outputs": [],
   "source": []
  },
  {
   "cell_type": "code",
   "execution_count": 39,
   "metadata": {},
   "outputs": [
    {
     "ename": "AttributeError",
     "evalue": "type object 'Image' has no attribute 'Image'",
     "output_type": "error",
     "traceback": [
      "\u001b[1;31m---------------------------------------------------------------------------\u001b[0m",
      "\u001b[1;31mAttributeError\u001b[0m                            Traceback (most recent call last)",
      "Cell \u001b[1;32mIn[39], line 1\u001b[0m\n\u001b[1;32m----> 1\u001b[0m \u001b[43mfetch\u001b[49m\u001b[43m(\u001b[49m\u001b[43m)\u001b[49m\n",
      "Cell \u001b[1;32mIn[38], line 8\u001b[0m, in \u001b[0;36mfetch\u001b[1;34m()\u001b[0m\n\u001b[0;32m      6\u001b[0m c\u001b[38;5;241m.\u001b[39mexecute(\u001b[38;5;124m'\u001b[39m\u001b[38;5;124mSELECT image FROM image where id=?\u001b[39m\u001b[38;5;124m'\u001b[39m,(\u001b[38;5;28mid\u001b[39m,))\n\u001b[0;32m      7\u001b[0m data \u001b[38;5;241m=\u001b[39m c\u001b[38;5;241m.\u001b[39mfetchall()[\u001b[38;5;241m0\u001b[39m][\u001b[38;5;241m0\u001b[39m] \u001b[38;5;66;03m# Get the blob data\u001b[39;00m\n\u001b[1;32m----> 8\u001b[0m \u001b[43mshow\u001b[49m\u001b[43m(\u001b[49m\u001b[43mdata\u001b[49m\u001b[43m)\u001b[49m\n",
      "Cell \u001b[1;32mIn[37], line 7\u001b[0m, in \u001b[0;36mshow\u001b[1;34m(data)\u001b[0m\n\u001b[0;32m      5\u001b[0m \u001b[38;5;28;01mdef\u001b[39;00m \u001b[38;5;21mshow\u001b[39m(data):\n\u001b[0;32m      6\u001b[0m     img_byte \u001b[38;5;241m=\u001b[39m BytesIO(data)\n\u001b[1;32m----> 7\u001b[0m     img \u001b[38;5;241m=\u001b[39m ImageTk\u001b[38;5;241m.\u001b[39mPhotoImage(\u001b[43mImage\u001b[49m\u001b[38;5;241;43m.\u001b[39;49m\u001b[43mImage\u001b[49m\u001b[38;5;241m.\u001b[39mopen(img_byte))\n\u001b[0;32m      8\u001b[0m     Label(root,image\u001b[38;5;241m=\u001b[39mimg)\u001b[38;5;241m.\u001b[39mpack()\n\u001b[0;32m      9\u001b[0m     root\u001b[38;5;241m.\u001b[39mimage \u001b[38;5;241m=\u001b[39m img\n",
      "\u001b[1;31mAttributeError\u001b[0m: type object 'Image' has no attribute 'Image'"
     ]
    }
   ],
   "source": []
  },
  {
   "cell_type": "code",
   "execution_count": null,
   "metadata": {},
   "outputs": [],
   "source": []
  }
 ],
 "metadata": {
  "kernelspec": {
   "display_name": "big_data",
   "language": "python",
   "name": "python3"
  },
  "language_info": {
   "codemirror_mode": {
    "name": "ipython",
    "version": 3
   },
   "file_extension": ".py",
   "mimetype": "text/x-python",
   "name": "python",
   "nbconvert_exporter": "python",
   "pygments_lexer": "ipython3",
   "version": "3.10.14"
  }
 },
 "nbformat": 4,
 "nbformat_minor": 2
}
